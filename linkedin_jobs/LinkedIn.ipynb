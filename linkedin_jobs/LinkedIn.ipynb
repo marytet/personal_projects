{
 "cells": [
  {
   "cell_type": "markdown",
   "metadata": {},
   "source": [
    "## The goal of the project \n",
    "### The main goal of the project design an automated solution that collects requested  job positions on LinkedIn platform with search limited for 1000 results"
   ]
  },
  {
   "cell_type": "code",
   "execution_count": 18,
   "metadata": {},
   "outputs": [
    {
     "name": "stdout",
     "output_type": "stream",
     "text": [
      "Python 3.8.5\n"
     ]
    }
   ],
   "source": [
    "In [1]: import sys\n",
    "!{sys.executable} --version"
   ]
  },
  {
   "cell_type": "code",
   "execution_count": 19,
   "metadata": {},
   "outputs": [
    {
     "name": "stdout",
     "output_type": "stream",
     "text": [
      "Requirement already satisfied: selenium in c:\\programdata\\anaconda3\\lib\\site-packages (3.141.0)\n",
      "Requirement already satisfied: urllib3 in c:\\programdata\\anaconda3\\lib\\site-packages (from selenium) (1.25.11)\n"
     ]
    }
   ],
   "source": [
    "!pip install selenium\n"
   ]
  },
  {
   "cell_type": "code",
   "execution_count": 20,
   "metadata": {},
   "outputs": [],
   "source": [
    "import time\n",
    "import pandas as pd\n",
    "from selenium import webdriver"
   ]
  },
  {
   "cell_type": "code",
   "execution_count": 21,
   "metadata": {},
   "outputs": [],
   "source": [
    "#Open a Google Chrome browser and start a conversation with the browser\n",
    "#the url link contains a search query with a customized filter\n",
    "#location - Boulder, Colorado, US\n",
    "\n",
    "Driver = webdriver.Chrome()\n",
    "url_boulder_colorado = 'https://www.linkedin.com/jobs/search/?keywords=&location=Boulder%2C%20Colorado%2C%20United%20States&locationId=&geoId=102597912&sortBy=R&f_TPR=&distance=10&position=1&pageNum=0'\n",
    "Driver.get(url_boulder_colorado)"
   ]
  },
  {
   "cell_type": "code",
   "execution_count": 24,
   "metadata": {},
   "outputs": [],
   "source": [
    "# scroll jobs \n",
    "#first version => 150 jobs (or 100 jobs, depends on Internet speed),\n",
    "#if the search result is 100 jobs, increase the time(sec) (end-start) in the last script (for example from 100 sec to 120 sec)\n",
    "\n",
    "start = time.time()\n",
    "\n",
    "# will be used in the while loop\n",
    "initialScroll = 0\n",
    "finalScroll = 1000\n",
    "\n",
    "while True:\n",
    "    Driver.execute_script(f\"window.scrollTo({initialScroll},{finalScroll})\")\n",
    "    # this command scrolls the window starting from the pixel value stored in the initialScroll variable \n",
    "    #to the pixel value stored at the finalScroll variable\n",
    "    initialScroll = finalScroll\n",
    "    finalScroll += 1000\n",
    "\n",
    "    # stop the script for 3 seconds so that the data can load\n",
    "    time.sleep(3)\n",
    "    \n",
    "    try:\n",
    "        Driver.find_element_by_xpath('/html/body/main/div/section/button').click()\n",
    "        time.sleep(5)\n",
    "    except:\n",
    "        pass\n",
    "        time.sleep(5)\n",
    "    \n",
    "    end = time.time()\n",
    "\n",
    "    # We will scroll for 100 seconds\n",
    "    if round(end - start) > 100:\n",
    "        break\n"
   ]
  },
  {
   "cell_type": "code",
   "execution_count": 25,
   "metadata": {},
   "outputs": [
    {
     "data": {
      "text/plain": [
       "125"
      ]
     },
     "execution_count": 25,
     "metadata": {},
     "output_type": "execute_result"
    }
   ],
   "source": [
    "\n",
    "job_lists = Driver.find_element_by_class_name('jobs-search__results-list')\n",
    "jobs = job_lists.find_elements_by_tag_name('li')\n",
    "len(jobs)"
   ]
  },
  {
   "cell_type": "code",
   "execution_count": 26,
   "metadata": {},
   "outputs": [],
   "source": [
    "job_id = []\n",
    "job_title = []\n",
    "company_name = []\n",
    "location = []\n",
    "date = []\n",
    "job_link = []\n",
    "\n",
    "for job in jobs:\n",
    "    job_id0 = job.find_element_by_css_selector('div').get_attribute('data-entity-urn')\n",
    "    job_id.append(job_id0)\n",
    "    job_title0 = job.find_element_by_css_selector('h3').get_attribute('innerText')\n",
    "    job_title.append(job_title0)\n",
    "    company_name0 = job.find_element_by_css_selector('h4').get_attribute('innerText')\n",
    "    company_name.append(company_name0)\n",
    "    location0 = job.find_element_by_css_selector('[class=\"job-search-card__location\"]').get_attribute('innerText')\n",
    "    location.append(location0)\n",
    "    date0 = job.find_element_by_css_selector('time').get_attribute(\"datetime\")\n",
    "    date.append(date0)\n",
    "    job_link0 = job.find_element_by_css_selector('a').get_attribute('href')\n",
    "    job_link.append(job_link0)\n",
    "    \n"
   ]
  },
  {
   "cell_type": "code",
   "execution_count": 27,
   "metadata": {
    "scrolled": true
   },
   "outputs": [
    {
     "data": {
      "text/plain": [
       "(125, 6)"
      ]
     },
     "metadata": {},
     "output_type": "display_data"
    },
    {
     "data": {
      "text/html": [
       "<div>\n",
       "<style scoped>\n",
       "    .dataframe tbody tr th:only-of-type {\n",
       "        vertical-align: middle;\n",
       "    }\n",
       "\n",
       "    .dataframe tbody tr th {\n",
       "        vertical-align: top;\n",
       "    }\n",
       "\n",
       "    .dataframe thead th {\n",
       "        text-align: right;\n",
       "    }\n",
       "</style>\n",
       "<table border=\"1\" class=\"dataframe\">\n",
       "  <thead>\n",
       "    <tr style=\"text-align: right;\">\n",
       "      <th></th>\n",
       "      <th>id</th>\n",
       "      <th>title</th>\n",
       "      <th>company</th>\n",
       "      <th>location</th>\n",
       "      <th>date</th>\n",
       "      <th>link</th>\n",
       "    </tr>\n",
       "  </thead>\n",
       "  <tbody>\n",
       "    <tr>\n",
       "      <th>0</th>\n",
       "      <td>urn:li:jobPosting:2739481162</td>\n",
       "      <td>Events and Program Specialist</td>\n",
       "      <td>Boulder Chamber</td>\n",
       "      <td>Boulder, CO</td>\n",
       "      <td>2021-10-06</td>\n",
       "      <td>https://www.linkedin.com/jobs/view/events-and-...</td>\n",
       "    </tr>\n",
       "    <tr>\n",
       "      <th>1</th>\n",
       "      <td>urn:li:jobPosting:2749780629</td>\n",
       "      <td>Program Coordinator (EXPAND)</td>\n",
       "      <td>City of Boulder</td>\n",
       "      <td>Boulder, CO</td>\n",
       "      <td>2021-10-11</td>\n",
       "      <td>https://www.linkedin.com/jobs/view/program-coo...</td>\n",
       "    </tr>\n",
       "    <tr>\n",
       "      <th>2</th>\n",
       "      <td>urn:li:jobPosting:2752521996</td>\n",
       "      <td>Manager of Programs and Operations</td>\n",
       "      <td>University of Colorado Boulder</td>\n",
       "      <td>Boulder, CO</td>\n",
       "      <td>2021-10-11</td>\n",
       "      <td>https://www.linkedin.com/jobs/view/manager-of-...</td>\n",
       "    </tr>\n",
       "    <tr>\n",
       "      <th>3</th>\n",
       "      <td>urn:li:jobPosting:2738111272</td>\n",
       "      <td>Operations Advisor (Part Time) - Superior</td>\n",
       "      <td>Tesla</td>\n",
       "      <td>Superior, CO</td>\n",
       "      <td>2021-10-05</td>\n",
       "      <td>https://www.linkedin.com/jobs/view/operations-...</td>\n",
       "    </tr>\n",
       "    <tr>\n",
       "      <th>4</th>\n",
       "      <td>urn:li:jobPosting:2746125177</td>\n",
       "      <td>Archivist - Digital Collection</td>\n",
       "      <td>City of Boulder</td>\n",
       "      <td>Boulder, CO</td>\n",
       "      <td>2021-10-08</td>\n",
       "      <td>https://www.linkedin.com/jobs/view/archivist-d...</td>\n",
       "    </tr>\n",
       "  </tbody>\n",
       "</table>\n",
       "</div>"
      ],
      "text/plain": [
       "                             id                                      title  \\\n",
       "0  urn:li:jobPosting:2739481162              Events and Program Specialist   \n",
       "1  urn:li:jobPosting:2749780629               Program Coordinator (EXPAND)   \n",
       "2  urn:li:jobPosting:2752521996         Manager of Programs and Operations   \n",
       "3  urn:li:jobPosting:2738111272  Operations Advisor (Part Time) - Superior   \n",
       "4  urn:li:jobPosting:2746125177             Archivist - Digital Collection   \n",
       "\n",
       "                          company      location        date  \\\n",
       "0                 Boulder Chamber   Boulder, CO  2021-10-06   \n",
       "1                 City of Boulder   Boulder, CO  2021-10-11   \n",
       "2  University of Colorado Boulder   Boulder, CO  2021-10-11   \n",
       "3                           Tesla  Superior, CO  2021-10-05   \n",
       "4                 City of Boulder   Boulder, CO  2021-10-08   \n",
       "\n",
       "                                                link  \n",
       "0  https://www.linkedin.com/jobs/view/events-and-...  \n",
       "1  https://www.linkedin.com/jobs/view/program-coo...  \n",
       "2  https://www.linkedin.com/jobs/view/manager-of-...  \n",
       "3  https://www.linkedin.com/jobs/view/operations-...  \n",
       "4  https://www.linkedin.com/jobs/view/archivist-d...  "
      ]
     },
     "metadata": {},
     "output_type": "display_data"
    }
   ],
   "source": [
    "#load data into a DataFrame\n",
    "\n",
    "job_data = pd.DataFrame({\n",
    "    'id': job_id,\n",
    "    'title': job_title,\n",
    "    'company': company_name,\n",
    "    'location': location,\n",
    "    'date': date,\n",
    "    'link': job_link\n",
    "})\n",
    "display(job_data.shape)\n",
    "display(job_data.head())"
   ]
  },
  {
   "cell_type": "code",
   "execution_count": 15,
   "metadata": {},
   "outputs": [],
   "source": [
    "# save data as Excel file\n",
    "\n",
    "job_data.to_excel('LinkedIn Job Positions Boulden, Colorado.xlsx', index=False)"
   ]
  },
  {
   "cell_type": "code",
   "execution_count": 16,
   "metadata": {},
   "outputs": [
    {
     "ename": "WebDriverException",
     "evalue": "Message: chrome not reachable\n  (Session info: chrome=94.0.4606.71)\n",
     "output_type": "error",
     "traceback": [
      "\u001b[1;31m---------------------------------------------------------------------------\u001b[0m",
      "\u001b[1;31mWebDriverException\u001b[0m                        Traceback (most recent call last)",
      "\u001b[1;32m<ipython-input-16-53674e440428>\u001b[0m in \u001b[0;36m<module>\u001b[1;34m\u001b[0m\n\u001b[0;32m      4\u001b[0m \u001b[1;32mfor\u001b[0m \u001b[0mi\u001b[0m \u001b[1;32min\u001b[0m \u001b[0mrange\u001b[0m\u001b[1;33m(\u001b[0m\u001b[1;36m5000\u001b[0m\u001b[1;33m)\u001b[0m\u001b[1;33m:\u001b[0m\u001b[1;33m\u001b[0m\u001b[1;33m\u001b[0m\u001b[0m\n\u001b[0;32m      5\u001b[0m    \u001b[1;31m# browse = \"window.scrollTo(0,\" + str(i) + \")\"\u001b[0m\u001b[1;33m\u001b[0m\u001b[1;33m\u001b[0m\u001b[1;33m\u001b[0m\u001b[0m\n\u001b[1;32m----> 6\u001b[1;33m     \u001b[0mDriver\u001b[0m\u001b[1;33m.\u001b[0m\u001b[0mexecute_script\u001b[0m\u001b[1;33m(\u001b[0m\u001b[1;34m\"window.scrollTo(0, document.body.scrollHeight);\"\u001b[0m\u001b[1;33m)\u001b[0m\u001b[1;33m\u001b[0m\u001b[1;33m\u001b[0m\u001b[0m\n\u001b[0m\u001b[0;32m      7\u001b[0m     \u001b[0mi\u001b[0m \u001b[1;33m=\u001b[0m \u001b[0mi\u001b[0m \u001b[1;33m+\u001b[0m \u001b[1;36m400\u001b[0m\u001b[1;33m\u001b[0m\u001b[1;33m\u001b[0m\u001b[0m\n",
      "\u001b[1;32mC:\\ProgramData\\Anaconda3\\lib\\site-packages\\selenium\\webdriver\\remote\\webdriver.py\u001b[0m in \u001b[0;36mexecute_script\u001b[1;34m(self, script, *args)\u001b[0m\n\u001b[0;32m    632\u001b[0m             \u001b[0mcommand\u001b[0m \u001b[1;33m=\u001b[0m \u001b[0mCommand\u001b[0m\u001b[1;33m.\u001b[0m\u001b[0mEXECUTE_SCRIPT\u001b[0m\u001b[1;33m\u001b[0m\u001b[1;33m\u001b[0m\u001b[0m\n\u001b[0;32m    633\u001b[0m \u001b[1;33m\u001b[0m\u001b[0m\n\u001b[1;32m--> 634\u001b[1;33m         return self.execute(command, {\n\u001b[0m\u001b[0;32m    635\u001b[0m             \u001b[1;34m'script'\u001b[0m\u001b[1;33m:\u001b[0m \u001b[0mscript\u001b[0m\u001b[1;33m,\u001b[0m\u001b[1;33m\u001b[0m\u001b[1;33m\u001b[0m\u001b[0m\n\u001b[0;32m    636\u001b[0m             'args': converted_args})['value']\n",
      "\u001b[1;32mC:\\ProgramData\\Anaconda3\\lib\\site-packages\\selenium\\webdriver\\remote\\webdriver.py\u001b[0m in \u001b[0;36mexecute\u001b[1;34m(self, driver_command, params)\u001b[0m\n\u001b[0;32m    319\u001b[0m         \u001b[0mresponse\u001b[0m \u001b[1;33m=\u001b[0m \u001b[0mself\u001b[0m\u001b[1;33m.\u001b[0m\u001b[0mcommand_executor\u001b[0m\u001b[1;33m.\u001b[0m\u001b[0mexecute\u001b[0m\u001b[1;33m(\u001b[0m\u001b[0mdriver_command\u001b[0m\u001b[1;33m,\u001b[0m \u001b[0mparams\u001b[0m\u001b[1;33m)\u001b[0m\u001b[1;33m\u001b[0m\u001b[1;33m\u001b[0m\u001b[0m\n\u001b[0;32m    320\u001b[0m         \u001b[1;32mif\u001b[0m \u001b[0mresponse\u001b[0m\u001b[1;33m:\u001b[0m\u001b[1;33m\u001b[0m\u001b[1;33m\u001b[0m\u001b[0m\n\u001b[1;32m--> 321\u001b[1;33m             \u001b[0mself\u001b[0m\u001b[1;33m.\u001b[0m\u001b[0merror_handler\u001b[0m\u001b[1;33m.\u001b[0m\u001b[0mcheck_response\u001b[0m\u001b[1;33m(\u001b[0m\u001b[0mresponse\u001b[0m\u001b[1;33m)\u001b[0m\u001b[1;33m\u001b[0m\u001b[1;33m\u001b[0m\u001b[0m\n\u001b[0m\u001b[0;32m    322\u001b[0m             response['value'] = self._unwrap_value(\n\u001b[0;32m    323\u001b[0m                 response.get('value', None))\n",
      "\u001b[1;32mC:\\ProgramData\\Anaconda3\\lib\\site-packages\\selenium\\webdriver\\remote\\errorhandler.py\u001b[0m in \u001b[0;36mcheck_response\u001b[1;34m(self, response)\u001b[0m\n\u001b[0;32m    240\u001b[0m                 \u001b[0malert_text\u001b[0m \u001b[1;33m=\u001b[0m \u001b[0mvalue\u001b[0m\u001b[1;33m[\u001b[0m\u001b[1;34m'alert'\u001b[0m\u001b[1;33m]\u001b[0m\u001b[1;33m.\u001b[0m\u001b[0mget\u001b[0m\u001b[1;33m(\u001b[0m\u001b[1;34m'text'\u001b[0m\u001b[1;33m)\u001b[0m\u001b[1;33m\u001b[0m\u001b[1;33m\u001b[0m\u001b[0m\n\u001b[0;32m    241\u001b[0m             \u001b[1;32mraise\u001b[0m \u001b[0mexception_class\u001b[0m\u001b[1;33m(\u001b[0m\u001b[0mmessage\u001b[0m\u001b[1;33m,\u001b[0m \u001b[0mscreen\u001b[0m\u001b[1;33m,\u001b[0m \u001b[0mstacktrace\u001b[0m\u001b[1;33m,\u001b[0m \u001b[0malert_text\u001b[0m\u001b[1;33m)\u001b[0m\u001b[1;33m\u001b[0m\u001b[1;33m\u001b[0m\u001b[0m\n\u001b[1;32m--> 242\u001b[1;33m         \u001b[1;32mraise\u001b[0m \u001b[0mexception_class\u001b[0m\u001b[1;33m(\u001b[0m\u001b[0mmessage\u001b[0m\u001b[1;33m,\u001b[0m \u001b[0mscreen\u001b[0m\u001b[1;33m,\u001b[0m \u001b[0mstacktrace\u001b[0m\u001b[1;33m)\u001b[0m\u001b[1;33m\u001b[0m\u001b[1;33m\u001b[0m\u001b[0m\n\u001b[0m\u001b[0;32m    243\u001b[0m \u001b[1;33m\u001b[0m\u001b[0m\n\u001b[0;32m    244\u001b[0m     \u001b[1;32mdef\u001b[0m \u001b[0m_value_or_default\u001b[0m\u001b[1;33m(\u001b[0m\u001b[0mself\u001b[0m\u001b[1;33m,\u001b[0m \u001b[0mobj\u001b[0m\u001b[1;33m,\u001b[0m \u001b[0mkey\u001b[0m\u001b[1;33m,\u001b[0m \u001b[0mdefault\u001b[0m\u001b[1;33m)\u001b[0m\u001b[1;33m:\u001b[0m\u001b[1;33m\u001b[0m\u001b[1;33m\u001b[0m\u001b[0m\n",
      "\u001b[1;31mWebDriverException\u001b[0m: Message: chrome not reachable\n  (Session info: chrome=94.0.4606.71)\n"
     ]
    }
   ],
   "source": [
    "#scroll jobs\n",
    "#second version\n",
    "\n",
    "for i in range(5000):\n",
    "   # browse = \"window.scrollTo(0,\" + str(i) + \")\"\n",
    "    Driver.execute_script(\"window.scrollTo(0, document.body.scrollHeight);\")\n",
    "    i = i + 400"
   ]
  },
  {
   "cell_type": "code",
   "execution_count": 17,
   "metadata": {},
   "outputs": [],
   "source": [
    "#scroll jobs\n",
    "#third version => 25 jobs\n",
    "\n",
    "no_of_jobs = int(5000)\n",
    "#Driver.find_element_by_css_selector('h1>span').get_attribute('innerText')\n",
    "\n",
    "#no_of_jobs = int(Driver.find_element_by_css_selector('h1>span').get_attribute('innerText'))\n",
    "\n",
    "i = 2\n",
    "while 1 <- int(no_of_jobs/20)+1:\n",
    "    Driver.execute_script('window.scrollTo(0, document.body.scrollHeight);')\n",
    "    i=i+1 \n",
    "    try:\n",
    "        Driver.find_element_by_xpath('/html/body/main/div/section/button').click()\n",
    "        time.sleep(5)\n",
    "    except:\n",
    "        pass\n",
    "        time.sleep(5)"
   ]
  },
  {
   "cell_type": "code",
   "execution_count": null,
   "metadata": {},
   "outputs": [],
   "source": [
    "#do not need for this task to enter into account\n",
    "\n",
    "\n",
    "\n",
    "#Open a URL\n",
    "#Driver.get(\"https://www.linkedin.com/login?fromSignIn=true&trk=guest_homepage-basic_nav-header-signin\")\n",
    "\n",
    "#Enter login info:\n",
    "#elementID = Driver.find_element_by_id('username')\n",
    "#elementID.send_keys('maryna.pekh@gmail.com')\n",
    "\n",
    "#elementID = Driver.find_element_by_id('password')\n",
    "#elementID.send_keys('masana')\n",
    "#elementID.submit()"
   ]
  },
  {
   "cell_type": "code",
   "execution_count": null,
   "metadata": {},
   "outputs": [],
   "source": [
    "#search box\n",
    "\n",
    "#Go to webpage\n",
    "Driver.get('https://www.linkedin.com/jobs/?showJobAlertsModal=false')\n",
    "#Find search box\n",
    "jobID = Driver.find_element_by_class_name('jobs-search-box__text-input')\n",
    "#Send input\n",
    "jobID.send_keys(job)"
   ]
  },
 "metadata": {
  "kernelspec": {
   "display_name": "Python 3",
   "language": "python",
   "name": "python3"
  },
  "language_info": {
   "codemirror_mode": {
    "name": "ipython",
    "version": 3
   },
   "file_extension": ".py",
   "mimetype": "text/x-python",
   "name": "python",
   "nbconvert_exporter": "python",
   "pygments_lexer": "ipython3",
   "version": "3.8.5"
  }
 },
 "nbformat": 4,
 "nbformat_minor": 4
}
